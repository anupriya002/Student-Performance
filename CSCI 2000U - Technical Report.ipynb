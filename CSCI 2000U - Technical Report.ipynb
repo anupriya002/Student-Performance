{
 "cells": [
  {
   "cell_type": "markdown",
   "id": "f81d283c",
   "metadata": {},
   "source": [
    "\n",
    "<h1 align=\"center\">CSCI 2000 - Scientific Data Analysis</h1> \n",
    "<h2 align=\"center\">Technical Report</h2> \n",
    "\n",
    "**Project Group 8:**\n",
    "\n",
    "- Alexander Tran: 100788359\n",
    "- Anupriya Dubey: 100784096\n",
    "- Emma Monson: 100787133\n",
    "- Nicholas Kissoon: 100742790\n",
    "\n",
    "\n",
    "**Dataset Name:** Student Performance in Exams\n",
    "\n",
    "**Dataset Link:** https://www.kaggle.com/spscientist/students-performance-in-exams\n",
    "\n",
    "**References**:\n",
    "\n",
    "Seshapanpu, J. (2018). Students Performance in Exams. Retrieved November 28, 2021, from https://www.kaggle.com/spscientist/students-performance-in-exams. \n"
   ]
  },
  {
   "cell_type": "markdown",
   "id": "55bc898a",
   "metadata": {},
   "source": [
    "# Introduction\n",
    "\n",
    "The selection of this data set was motivated by the easily interpreted data and relevance to our members daily lives. As current students, we were really intrigued by the different factors that are represented in this data that can affect one’s education, which determines your role in society. Through careful analysis, we want to see exactly how these factors individually and collectively impact not only a student’s exam performance across a variety of subjects but their potential life outcome. \n",
    "\n",
    "Furthermore, we felt that this dataset also provides a closer look at the values that present day society is built on. Through analysis of scores across various subjects as well as which genders score higher, and how access to certain services can impact learning abilities, we believe this dataset can allow us to improve many of the facilities available to people to encourage and harbour a more fair, and equitable educational environment that will allow students to thrive best (i.e. suggest better distribution of services).\n",
    "\n",
    "Moreover, our team consisted of devoted members that each had their own responsibility for the findings in this report. There were various questions that were analyzed throughout with roughly each member finding the solution to three questions. Just to expose a sample of who is responsible for what question and what they looked analyzed, they are as follows. Anupriya looked at the question, Which racial group on average, tends to do the best in math? In Reading? In writing? Emma explored, Does the parental level of education affect whether or not a student participates in the test preparation course? Alexander analyzed, Is there a correlation between test preparation and test scores? As for the last member, Nicholas evaluated the question, On average, which gender performs better in math? writing? reading?"
   ]
  },
  {
   "cell_type": "markdown",
   "id": "6cb67f88",
   "metadata": {},
   "source": [
    "# Description of Data\n",
    "\n",
    "The data set explored came from an online website known as Kaggle and is about the American high school student performance on exams. It looks at the marks they received. It was collected through a survey and then testing the students in reading, writing and math. It also takes into account other factors such as gender and race. The data consists of one thousand students, of which there are two genders and five races. "
   ]
  },
  {
   "cell_type": "markdown",
   "id": "a8691cb1",
   "metadata": {},
   "source": [
    "# Analyzing the Dataset\n",
    "The data we are using is the marks students in America achieved in three standardized tests. The data also surveys different things about the students, including their home life and if they completed a test prep. All the data is valid and accurate. None of the data needs to be cleaned or preprocessed before starting EDA. \n",
    "\n",
    "a)\tThe students gender;\n",
    "\n",
    " This data puts the students into two groups, whether they are female or male. There are more females than males in this study. \n",
    "\n",
    "b)\t Race/ Ethnicity;\n",
    "\n",
    "This data groups the students based on their race and ethnic status. There are 5 groups in the dataset. They are labeled Group A, B, C, D, and E. Students are only apart of one group. The data does not specify which ethnic groups each letter group belongs to. Most students are apart of Group C. \n",
    "\n",
    "c)\t Parental Level of Education;\n",
    "\n",
    "This dataset lists the parent(s) of the students highest level of education. It ranges from some high school all the way to master’s degree. It includes; some high school, high school, some college, associates degree, bachelor’s degree and master’s degree. Most students have a parent with at least some college education. \n",
    "\n",
    "d)\t Lunch;\n",
    "\n",
    "This data lists what type of lunch the students normally eat. The options are standard and free/reduced. For our purposes we can assume that the students are eating this type of lunch every single day. We do not know what the content of the lunches are. Most students eat standard lunch. \n",
    "\n",
    "e)\t Test preparation course; \n",
    "\n",
    "This data lists if the students completed a test preparation course prior to taking the three standardized tests. For our analysis, we can assume that the course includes practice in all three subjects (reading, writing and math). The data assumes the students rather completed the full course or did not do the course at all. There is no data if the students only did the course for one subject. We will assume that the students rather completed the course for all three subjects or none at all. Most students did not complete the test preparation course. \n",
    "\n",
    "f)\tMath Score; \n",
    "\n",
    "The subject of the first of the three standardized tests. The score of the students on the math exam. We do not know at what grade level or what math topics are being assessed. We also do not know the grade level of the students, or if they are even in the same grade level. The scores are collected in percentages that range from 0% to 100%. It is possible that some students did not complete the math exam since there are 2 students that scored under 10% (at least one of them is zero). For our analysis, we will assume all the students attempted the exam. The average on the test was 66%. \n",
    "\n",
    "\n",
    "g)\t Reading Score;\n",
    "\n",
    "The subject of the second of the three standardized tests. This data measures the students score on the reading exam. We hold the same assumptions about the reading scores as we do the math scores. The scores range from 17% to 100%. From this we know that all the students attempted the reading exam because they all received a mark. The average on the test was a 70%. \n",
    "\n",
    "\n",
    "h)\tWriting score; \n",
    "\n",
    "The subject of the last of the three exams. This data measures the students score on the writing portion of the exam. We hold the same assumptions that we did with the math and reading exams. The scores range from 10% to 100%. We know that all the students took this exam because every student received a mark for it. The average on this test was a 69%. \n",
    "\n"
   ]
  },
  {
   "cell_type": "markdown",
   "id": "9935b03f",
   "metadata": {},
   "source": [
    "# Programming Questions: Getting to know the Dataset\n",
    "The following are questions we used to better understand the basics of our dataset."
   ]
  },
  {
   "cell_type": "code",
   "execution_count": 113,
   "id": "2f8c04fe",
   "metadata": {},
   "outputs": [],
   "source": [
    "#import json stuff and the csv file\n",
    "#importing used libraries\n",
    "import csv\n",
    "import re\n",
    "from functools import reduce\n",
    "import numpy as np\n",
    "import pandas as pd\n",
    "import seaborn as sns\n",
    "import matplotlib.pyplot as plt\n",
    "\n",
    "# this aux function reads the CSV file and returns the data in a Python dictionary\n",
    "def get_data_csv():\n",
    "    collection = []\n",
    "    with open('StudentsPerformance.csv', 'r') as f:\n",
    "        for line in csv.DictReader(f):\n",
    "            collection.append(line)\n",
    "        return collection\n",
    "        \n",
    "# the data    \n",
    "data = get_data_csv()"
   ]
  },
  {
   "cell_type": "code",
   "execution_count": 114,
   "id": "c679225f",
   "metadata": {},
   "outputs": [
    {
     "name": "stdout",
     "output_type": "stream",
     "text": [
      "1. There are 1000 records.\n",
      "\n"
     ]
    }
   ],
   "source": [
    "#1. How many data records do you have? Print how many records. \n",
    "print(\"1. There are {} records.\\n\".format(len(data)))"
   ]
  },
  {
   "cell_type": "code",
   "execution_count": 115,
   "id": "cc518ed6",
   "metadata": {},
   "outputs": [
    {
     "name": "stdout",
     "output_type": "stream",
     "text": [
      "2. The top 5 records are: [{'gender': 'female', 'race/ethnicity': 'group B', 'parental level of education': \"bachelor's degree\", 'lunch': 'standard', 'test preparation course': 'none', 'math score': '72', 'reading score': '72', 'writing score': '74'}, {'gender': 'female', 'race/ethnicity': 'group C', 'parental level of education': 'some college', 'lunch': 'standard', 'test preparation course': 'completed', 'math score': '69', 'reading score': '90', 'writing score': '88'}, {'gender': 'female', 'race/ethnicity': 'group B', 'parental level of education': \"master's degree\", 'lunch': 'standard', 'test preparation course': 'none', 'math score': '90', 'reading score': '95', 'writing score': '93'}, {'gender': 'male', 'race/ethnicity': 'group A', 'parental level of education': \"associate's degree\", 'lunch': 'free/reduced', 'test preparation course': 'none', 'math score': '47', 'reading score': '57', 'writing score': '44'}, {'gender': 'male', 'race/ethnicity': 'group C', 'parental level of education': 'some college', 'lunch': 'standard', 'test preparation course': 'none', 'math score': '76', 'reading score': '78', 'writing score': '75'}].\n"
     ]
    }
   ],
   "source": [
    "#2. What do the few first records look like? Display the top 5 records. \n",
    "print(\"2. The top 5 records are: {}.\".format(data[:5]))"
   ]
  },
  {
   "cell_type": "code",
   "execution_count": 116,
   "id": "026306ed",
   "metadata": {},
   "outputs": [
    {
     "name": "stdout",
     "output_type": "stream",
     "text": [
      "There are 2 unique genders.\n",
      "The 2 unique genders are: {'male', 'female'}.\n",
      "There are 482 males.\n",
      "There are 518 females.\n"
     ]
    }
   ],
   "source": [
    "#3. How many different genders are included in this dataset? Display how many of each.\n",
    "unique_genders = set([data['gender'] for data in data])\n",
    "print(\"There are {} unique genders.\".format(len(unique_genders)))\n",
    "print(\"The {} unique genders are: {}.\".format(len(unique_genders), unique_genders))\n",
    "\n",
    "male_data = [data[\"gender\"] for data in data if data[\"gender\"] == 'male']\n",
    "male_count = len(male_data)\n",
    "female_data = [data[\"gender\"] for data in data if data[\"gender\"] == 'female']\n",
    "female_count = len(female_data)\n",
    "print(\"There are {} males.\".format(male_count))\n",
    "print(\"There are {} females.\".format(female_count))"
   ]
  },
  {
   "cell_type": "code",
   "execution_count": 117,
   "id": "eb4443be",
   "metadata": {},
   "outputs": [
    {
     "name": "stdout",
     "output_type": "stream",
     "text": [
      "Not all races/ethnicities are unique, there are 5 unique races/ethnicities.\n"
     ]
    }
   ],
   "source": [
    "#4. Are all races/ethnicities unique in this dataset? If not, how many are there in this dataset?\n",
    "unique_races = set([data['race/ethnicity'] for data in data])\n",
    "print(\"Not all races/ethnicities are unique, there are {} unique races/ethnicities.\".format(len(unique_races)))"
   ]
  },
  {
   "cell_type": "code",
   "execution_count": 118,
   "id": "be85545f",
   "metadata": {},
   "outputs": [
    {
     "name": "stdout",
     "output_type": "stream",
     "text": [
      "358 people completed the test preparation course.\n"
     ]
    }
   ],
   "source": [
    "#5. How many people completed the test preparation course? \n",
    "num_completed_prep_course = len([data['test preparation course'] for data in data if data['test preparation course'] == 'completed'])\n",
    "print(\"{} people completed the test preparation course.\".format(num_completed_prep_course))"
   ]
  },
  {
   "cell_type": "code",
   "execution_count": 119,
   "id": "4b910638",
   "metadata": {},
   "outputs": [
    {
     "name": "stdout",
     "output_type": "stream",
     "text": [
      "2 types of lunches are offered.\n",
      "The 2 types of lunches are: {'free/reduced', 'standard'}.\n"
     ]
    }
   ],
   "source": [
    "#6. How many types of lunches are offered? Display the types.\n",
    "lunch_types = set([data['lunch'] for data in data])\n",
    "print(\"{} types of lunches are offered.\".format(len(lunch_types)))\n",
    "print(\"The {} types of lunches are: {}.\".format(len(lunch_types), lunch_types))"
   ]
  },
  {
   "cell_type": "code",
   "execution_count": 120,
   "id": "44f5852f",
   "metadata": {},
   "outputs": [
    {
     "name": "stdout",
     "output_type": "stream",
     "text": [
      "There are 6 parental levels of education.\n",
      "The 6 parental levels of education are: {\"bachelor's degree\", \"master's degree\", 'some college', \"associate's degree\", 'high school', 'some high school'}.\n"
     ]
    }
   ],
   "source": [
    "#7. What are the different parental levels of education in the dataset? Display how many they are and their levels. \n",
    "parental_levels = set([data['parental level of education'] for data in data])\n",
    "print(\"There are {} parental levels of education.\".format(len(parental_levels)))\n",
    "print(\"The {} parental levels of education are: {}.\".format(len(parental_levels), parental_levels))"
   ]
  },
  {
   "cell_type": "code",
   "execution_count": 121,
   "id": "ea5c626c",
   "metadata": {},
   "outputs": [
    {
     "name": "stdout",
     "output_type": "stream",
     "text": [
      "8. The math scores range from 0 to 100.\n",
      "\n"
     ]
    }
   ],
   "source": [
    "#8. What is the range of Math scores in the data set? Display the range.\n",
    "lower_bound = min([int(data['math score']) for data in data])\n",
    "upper_bound = max([int(data['math score']) for data in data])\n",
    "print(\"8. The math scores range from {} to {}.\\n\".format(lower_bound, upper_bound))"
   ]
  },
  {
   "cell_type": "code",
   "execution_count": 122,
   "id": "5b05eab5",
   "metadata": {
    "scrolled": true
   },
   "outputs": [
    {
     "name": "stdout",
     "output_type": "stream",
     "text": [
      "9. The writing scores range from 10 to 100.\n",
      "\n"
     ]
    }
   ],
   "source": [
    "#9. What is the range of Writing scores in the data set? Display the range.\n",
    "lower_bound2 = min([int(data['writing score']) for data in data])\n",
    "upper_bound2 = max([int(data['writing score']) for data in data])\n",
    "print(\"9. The writing scores range from {} to {}.\\n\".format(lower_bound2, upper_bound2))"
   ]
  },
  {
   "cell_type": "code",
   "execution_count": 123,
   "id": "62da9771",
   "metadata": {},
   "outputs": [
    {
     "name": "stdout",
     "output_type": "stream",
     "text": [
      "10. The reading scores range from 17 to 100.\n",
      "\n"
     ]
    }
   ],
   "source": [
    "#10. What is the range of Reading scores in the data set? Display the range.\n",
    "lower_bound3 = min([int(data['reading score']) for data in data])\n",
    "upper_bound3 = max([int(data['reading score']) for data in data])\n",
    "print(\"10. The reading scores range from {} to {}.\\n\".format(lower_bound3, upper_bound3))"
   ]
  },
  {
   "cell_type": "markdown",
   "id": "fa3cf44c",
   "metadata": {},
   "source": [
    "# Exploratory Data Analysis: Taking a closer look at Student Performance"
   ]
  },
  {
   "cell_type": "code",
   "execution_count": 124,
   "id": "fa59672d",
   "metadata": {},
   "outputs": [
    {
     "name": "stdout",
     "output_type": "stream",
     "text": [
      "Math score averages:\n",
      "Completed test preparation course: 69.70\n",
      "Did not complete test preparation course: 64.08\n",
      "\n",
      "\n",
      "Reading score averages:\n",
      "Completed test preparation course: 73.89\n",
      "Did not complete test preparation course: 66.53\n",
      "\n",
      "\n",
      "Writing score averages:\n",
      "Completed test preparation course: 74.42\n",
      "Did not complete test preparation course: 64.50\n"
     ]
    }
   ],
   "source": [
    "#1. Is there a correlation between test preparation and test scores? \n",
    "#Import data as dataframe \n",
    "df = pd.read_csv('StudentsPerformance.csv')\n",
    "\n",
    "#Filter scores by test preparation course completion\n",
    "test_prep_1 = df.loc[df['test preparation course'] == 'completed'] #Completed test preparation course\n",
    "test_prep_0 = df.loc[df['test preparation course'] == 'none'] #Did not complete test preparation course\n",
    "\n",
    "#Calculate averages of math, reading, and writing scores\n",
    "math_mean_1 = test_prep_1['math score'].mean()\n",
    "math_mean_0 = test_prep_0['math score'].mean()\n",
    "\n",
    "reading_mean_1 = test_prep_1['reading score'].mean()\n",
    "reading_mean_0 = test_prep_0['reading score'].mean()\n",
    "\n",
    "writing_mean_1 = test_prep_1['writing score'].mean()\n",
    "writing_mean_0 = test_prep_0['writing score'].mean()\n",
    "\n",
    "#Compare test score averages\n",
    "print(\"Math score averages:\")\n",
    "print(\"Completed test preparation course: {:.2f}\".format(math_mean_1))\n",
    "print(\"Did not complete test preparation course: {:.2f}\".format(math_mean_0))\n",
    "print(\"\\n\")\n",
    "\n",
    "print(\"Reading score averages:\")\n",
    "print(\"Completed test preparation course: {:.2f}\".format(reading_mean_1))\n",
    "print(\"Did not complete test preparation course: {:.2f}\".format(reading_mean_0))\n",
    "print(\"\\n\")\n",
    "\n",
    "print(\"Writing score averages:\")\n",
    "print(\"Completed test preparation course: {:.2f}\".format(writing_mean_1))\n",
    "print(\"Did not complete test preparation course: {:.2f}\".format(writing_mean_0))\n"
   ]
  },
  {
   "cell_type": "markdown",
   "id": "e600fa7f",
   "metadata": {},
   "source": [
    "Based on the data above, we can see that the average test scores for math, reading, and writing are all higher for students that completed the test preparation course. \n",
    "Therefore, we can say that there is a correlation between test preparation and test scores.\n",
    "\n",
    "1.b) After answering the question above, two follow up research questions could be: Does completing the test preparation course cause test scores to increase? \n",
    "If the correlation between test preparation and test scores is not caused by the test preparation course, then what other factor(s) could be causing this?"
   ]
  },
  {
   "cell_type": "code",
   "execution_count": 125,
   "id": "bd0541c0",
   "metadata": {},
   "outputs": [
    {
     "name": "stdout",
     "output_type": "stream",
     "text": [
      " \n",
      "                      FIGURE 1\n"
     ]
    },
    {
     "data": {
      "image/png": "[encoded data removed]",
      "text/plain": [
       "<Figure size 432x288 with 1 Axes>"
      ]
     },
     "metadata": {
      "needs_background": "light"
     },
     "output_type": "display_data"
    }
   ],
   "source": [
    "# 2. Do the parents' level of education influence how the students do on the tests?\n",
    "df = pd.read_csv('StudentsPerformance.csv')\n",
    "\n",
    "#Drop unneeded columns\n",
    "df = df.drop(columns=['gender', 'race/ethnicity', 'lunch', 'test preparation course'])\n",
    "\n",
    "#Filter by education levels\n",
    "BA = df['parental level of education'] == \"bachelor's degree\"\n",
    "SC = df['parental level of education'] == \"some college\"\n",
    "MS = df['parental level of education'] == \"master's degree\"\n",
    "AA = df['parental level of education'] == \"associate's degree\"\n",
    "HS = df['parental level of education'] == \"high school\"\n",
    "SHS = df['parental level of education'] == \"some high school\"\n",
    "\n",
    "#Group and plot\n",
    "x = df[SHS].groupby(['parental level of education']).mean()\n",
    "a = df[HS].groupby(['parental level of education']).mean()\n",
    "b = df[SC].groupby(['parental level of education']).mean()\n",
    "c = df[AA].groupby(['parental level of education']).mean()\n",
    "d = df[BA].groupby(['parental level of education']).mean()\n",
    "e = df[MS].groupby(['parental level of education']).mean()\n",
    "dfs = [a,b,c,d,e]\n",
    "for i in dfs:\n",
    "    x = x.append(i)\n",
    "\n",
    "plt = x.plot.bar(xlabel=\"Parental Level of Education\", ylabel=\"Test Scores\", \n",
    "                 title=\"Parental Level of Education vs Test Scores\")\n",
    "plt.legend(loc='lower right');\n",
    "\n",
    "print(\" \")\n",
    "print(\"                      FIGURE 1\")"
   ]
  },
  {
   "cell_type": "markdown",
   "id": "f380ce1d",
   "metadata": {},
   "source": [
    "Based on the data seen above, the average math, reading, and writing scores of students has is positvely correlated\n",
    "with the parent's level of education, with students whose parent's have only completed some high school having lower\n",
    "average test scores than student's whose parents have completed a master's degree."
   ]
  },
  {
   "cell_type": "code",
   "execution_count": 126,
   "id": "66e40e78",
   "metadata": {},
   "outputs": [
    {
     "name": "stdout",
     "output_type": "stream",
     "text": [
      "The percentage of students with a math score greater than 80 is: 17.6%.\n",
      "The percentage of students with a reading score greater than 70 is: 48.7%.\n",
      "The percentage of students with a reading score greater than 70 is: 45.6%.\n"
     ]
    }
   ],
   "source": [
    "# 3. What percentage of the students who scored over an 80 on the math portion, score over a 70 on the reading and writing portions? - A\n",
    "\n",
    "#percentage of the students who scored over an 80 on the math portion\n",
    "math_scores = [int(data[i]['math score']) for i in range(len(data)) if int(data[i]['math score']) > 80]\n",
    "percent_above_80 = len(math_scores) /len(data) * 100\n",
    "\n",
    "print(\"The percentage of students with a math score greater than 80 is: \" + str(round(percent_above_80, 2)) + \"%.\")\n",
    "\n",
    "#score over a 70 on the reading portion?\n",
    "reading_scores = [int(data[i]['reading score']) for i in range(len(data)) if int(data[i]['reading score']) > 70]\n",
    "read_above_70 = len(reading_scores) /len(data) * 100\n",
    "\n",
    "print(\"The percentage of students with a reading score greater than 70 is: \" + str(round(read_above_70, 2)) + \"%.\")\n",
    "\n",
    "#score over a 70 on the writing portion?\n",
    "writing_scores = [int(data[i]['writing score']) for i in range(len(data)) if int(data[i]['writing score']) > 70]\n",
    "write_above_70 = len(writing_scores) /len(data) * 100\n",
    "\n",
    "print(\"The percentage of students with a reading score greater than 70 is: \" + str(round(write_above_70, 2)) + \"%.\")"
   ]
  },
  {
   "cell_type": "markdown",
   "id": "5f37388d",
   "metadata": {},
   "source": [
    "Based on the results displayed above, it can be very clearly seen that 17.6% of the students scored above an 80 in mathematics, \n",
    "48.7% scored above a 70 in reading, and 45.6% scored above a 70 in the writing portion of the examination. Taking a closer \n",
    "look at these results, it can also be said that on average, the students performed the best on the reading portion, \n",
    "and scored the worst on the math portion. "
   ]
  },
  {
   "cell_type": "code",
   "execution_count": 127,
   "id": "91a044a5",
   "metadata": {},
   "outputs": [
    {
     "name": "stdout",
     "output_type": "stream",
     "text": [
      "68.72821576763485\n",
      "63.31120331950208\n",
      "On average, male students are better at math than they are at writing.\n"
     ]
    }
   ],
   "source": [
    "#4. Do male students tend to score better on the math section or the writing section? \n",
    "\n",
    "# this aux function reads the CSV file and returns the data in a Python dictionary\n",
    "def get_data_csv():\n",
    "    collection = []\n",
    "    with open('StudentsPerformance.csv', 'r') as f:\n",
    "        for line in csv.DictReader(f):\n",
    "            collection.append(line)\n",
    "        return collection\n",
    "        \n",
    "# the data    \n",
    "data = get_data_csv()\n",
    "male_total_math = [int(data['math score']) for data in data if data['gender'] == \"male\"]\n",
    "male_math_avg = reduce(lambda x,y: x + y, male_total_math)/len(male_total_math)\n",
    "# print(male_total_math)\n",
    "print(male_math_avg)\n",
    "male_total_writing = [int(data['writing score']) for data in data if data['gender'] == \"male\"]\n",
    "male_writing_avg = reduce(lambda x,y: x + y, male_total_writing)/len(male_total_writing)\n",
    "# print(male_total_writing)\n",
    "print(male_writing_avg)\n",
    "if male_math_avg < male_writing_avg:\n",
    "    print(\"On average, male students are better at writing than they are at math.\")\n",
    "elif male_math_avg == male_writing_avg:\n",
    "    print(\"On average, male students are equally capable in both the writing and math section.\")\n",
    "elif male_math_avg > male_writing_avg:\n",
    "    print(\"On average, male students are better at math than they are at writing.\")"
   ]
  },
  {
   "cell_type": "code",
   "execution_count": 128,
   "id": "24fb5b69",
   "metadata": {},
   "outputs": [
    {
     "name": "stdout",
     "output_type": "stream",
     "text": [
      "AxesSubplot(0.125,0.125;0.775x0.755)\n",
      " \n",
      "                      FIGURE 2\n"
     ]
    },
    {
     "data": {
      "image/png": "[encoded data removed]",
      "text/plain": [
       "<Figure size 432x288 with 1 Axes>"
      ]
     },
     "metadata": {
      "needs_background": "light"
     },
     "output_type": "display_data"
    }
   ],
   "source": [
    "# 5. Does the type of lunch the students receive influence whether or not they do any test preparations?\n",
    "df = pd.DataFrame(data)\n",
    "def lunch_and_test(lunch, test_prep):\n",
    "    value = \"\"\n",
    "    \n",
    "    if (lunch == \"standard\" and test_prep == \"completed\"):\n",
    "        value = \"std lunch-test prep\"  \n",
    "    elif (lunch == \"standard\" and test_prep == \"none\"):\n",
    "            value = \"std lunch-no test prep\"\n",
    "    elif (lunch == \"free/reduced\" and test_prep == \"completed\"):\n",
    "            value = \"free lunch-test prep\"\n",
    "    else:\n",
    "        if (lunch == \"free/reduced\" and test_prep == \"none\"):\n",
    "            value = \"free lunch-no test prep\"\n",
    "    return value\n",
    "\n",
    "df['lunch_and_prep'] = df.apply(lambda x: lunch_and_test(x['lunch'], x['test preparation course']), axis=1)\n",
    "lunch_prep = df['lunch_and_prep'].value_counts().plot.bar(title=\"Lunch and Completed Test Prep Correlation Amoung Students\")\n",
    "lunch_prep.set_xlabel(\"Prep and Lunch Correlation\", weight='bold')\n",
    "lunch_prep.set_ylabel(\"Number of Students\", weight='bold')\n",
    "print(lunch_prep)\n",
    "\n",
    "print(\" \")\n",
    "print(\"                      FIGURE 2\")"
   ]
  },
  {
   "cell_type": "markdown",
   "id": "7a6d3053",
   "metadata": {},
   "source": [
    "There seems to be no correlation between the types of lunches students eat and whether or not they complete the test prep. In both cases, there are more students who choose not to complete the test prep than those who do complete it. "
   ]
  },
  {
   "cell_type": "code",
   "execution_count": 143,
   "id": "3a6bbf48",
   "metadata": {},
   "outputs": [
    {
     "name": "stdout",
     "output_type": "stream",
     "text": [
      "179 196 226 222 118 59\n",
      " \n",
      "                      FIGURE 3\n"
     ]
    },
    {
     "data": {
      "image/png": "[encoded data removed]",
      "text/plain": [
       "<Figure size 432x288 with 1 Axes>"
      ]
     },
     "metadata": {
      "needs_background": "light"
     },
     "output_type": "display_data"
    }
   ],
   "source": [
    "# 6. Does the parental level of education affect whether or not a student participates in the test preparation course? -Emma\n",
    "#cell 1\n",
    "import csv\n",
    "import re\n",
    "from functools import reduce\n",
    "import numpy as np\n",
    "import pandas as pd\n",
    "import matplotlib.pyplot as plt\n",
    "# this aux function reads the CSV file and returns the data in a Python dictionary\n",
    "def get_data_csv():\n",
    "    collection = []\n",
    "    with open('StudentsPerformance.csv', 'r') as f:\n",
    "        for line in csv.DictReader(f):\n",
    "            collection.append(line)\n",
    "        return collection\n",
    "# the data\n",
    "data = get_data_csv()\n",
    "\n",
    "\n",
    "#cell 2\n",
    "df = pd.DataFrame(data)\n",
    "\n",
    "a = sum(df['parental level of education'] == \"some high school\")\n",
    "b = sum(df['parental level of education'] == 'high school')\n",
    "c = sum(df['parental level of education'] == 'some college')\n",
    "d = sum(df['parental level of education'] == \"associate's degree\")\n",
    "e = sum(df['parental level of education'] == \"bachelor's degree\")\n",
    "f = sum(df['parental level of education'] == \"master's degree\")\n",
    "\n",
    "print(a, b, c, d, e, f)\n",
    "\n",
    "new = { 'total students': [a, b, c, d, e, f]}\n",
    "new\n",
    "\n",
    "frame = pd.DataFrame(new)\n",
    "frame\n",
    "\n",
    "#cell 3\n",
    "def words_to_numbers(n):\n",
    "    if n == \"some high school\":\n",
    "        return 0\n",
    "    if n == \"high school\":\n",
    "        return 1\n",
    "    if n == \"some college\":\n",
    "        return 2\n",
    "    if n == \"associate's degree\":\n",
    "        return 3\n",
    "    if n == \"bachelor's degree\":\n",
    "        return 4\n",
    "    if n == \"master's degree\":\n",
    "        return 5\n",
    "\n",
    "\n",
    "def test_prep(c):\n",
    "    if c == 'completed':\n",
    "        return 1\n",
    "    else:\n",
    "        return 0 \n",
    "    \n",
    "    \n",
    "df['parental level of education'] = df['parental level of education'].apply(words_to_numbers)    \n",
    "df['test preparation course'] = df['test preparation course'].apply(test_prep)\n",
    "\n",
    "\n",
    "df2 = df[['parental level of education', 'test preparation course']].groupby(['parental level of education']).sum()\n",
    "df2\n",
    "\n",
    "df_all = pd.concat([df2, frame], axis=1, join='inner')\n",
    "\n",
    "df_all['% who took the course'] =  (df_all['test preparation course'] / df_all['total students']) * 100 \n",
    "df_all\n",
    "\n",
    "#cell 4\n",
    "h = \"Some High School\"\n",
    "i = \"High School\"\n",
    "j = \"Some College\"\n",
    "k = \"Associate's Degree\"\n",
    "l = \"Bachelar's Degree\"\n",
    "m = \"Master's Degree\"\n",
    "\n",
    "new2 = { 'parental level of education': [h, i, j, k, l, m]}\n",
    "\n",
    "frame2 = pd.DataFrame(new2)\n",
    "frame2\n",
    "\n",
    "#cell 5\n",
    "df_graph = pd.concat([frame2, df_all], axis=1, join='inner')\n",
    "df_graph\n",
    "\n",
    "#cell 6\n",
    "df_graph.plot.bar(x = 'parental level of education', y = '% who took the course')\n",
    "plt.title('Parental Education and Taking a Prep Course')\n",
    "plt.ylabel('Percent in % form')\n",
    "plt.ylim( [ 25, 45 ] )         \n",
    "plt.yticks( range(25,45,2) );   \n",
    "\n",
    "\n",
    "print(\" \")\n",
    "print(\"                      FIGURE 3\")\n"
   ]
  },
  {
   "cell_type": "markdown",
   "id": "d27c79d8",
   "metadata": {},
   "source": [
    "Aside from a few outliers, the parental level of education seems to influence the likelyhood of the students completing the test preparation. They have a direct relationship; as the parent has more education, the students are more likely to take the test. The outliers are the parents with some high school education and masters degree. The master's degree data simply doesn't follow the upward trend as it seems to be the second least likely despite being the most educated. For some high school;  although it's the least educated, it has the highest percent of students taking the course. Reasoning for this could be that students whose parents did not have access to high school education value it more or may need more help than other kids. These parents may also not be able to help their children with homework as much as other parents. "
   ]
  },
  {
   "cell_type": "code",
   "execution_count": 144,
   "id": "6891b157",
   "metadata": {},
   "outputs": [
    {
     "name": "stdout",
     "output_type": "stream",
     "text": [
      "Racial Group: 'group E' did the best in math.\n",
      "Racial Group: 'group C' did the best in reading.\n",
      "Racial Group: 'group C' did the best in writing.\n"
     ]
    }
   ],
   "source": [
    "# 7. Which racial group on average, tends to do the best in math? In Reading? In writing?\n",
    "m_mean = sum(math_scores)/len(math_scores)\n",
    "r_mean = sum(reading_scores)/len(reading_scores)\n",
    "w_mean = sum(writing_scores)/len(writing_scores)  \n",
    "\n",
    "num_math = []\n",
    "num_read = []\n",
    "num_write = []\n",
    "\n",
    "for race in unique_races:\n",
    "    above_math = [data[i]['math score'] for i in range(len(data))  if (data[i]['race/ethnicity'] == race and int(data[i]['math score']) >= m_mean)]  \n",
    "    above_read = [data[i]['reading score'] for i in range(len(data))  if (data[i]['race/ethnicity'] == race and int(data[i]['reading score']) >= r_mean)]  \n",
    "    above_write = [data[i]['writing score'] for i in range(len(data))  if (data[i]['race/ethnicity'] == race and int(data[i]['writing score']) >= w_mean)]\n",
    "    num_math.append(len(above_math))\n",
    "    num_read.append(len(above_read))\n",
    "    num_write.append(len(above_write))\n",
    "    \n",
    "print(\"Racial Group: '\" + (list(unique_races)[num_math.index(max(num_math))]) + \"' did the best in math.\")   \n",
    "print(\"Racial Group: '\" + (list(unique_races)[num_read.index(max(num_read))]) + \"' did the best in reading.\") \n",
    "print(\"Racial Group: '\" + (list(unique_races)[num_write.index(max(num_write))]) + \"' did the best in writing.\") \n",
    "\n"
   ]
  },
  {
   "cell_type": "code",
   "execution_count": 145,
   "id": "875e9bfc",
   "metadata": {},
   "outputs": [
    {
     "name": "stdout",
     "output_type": "stream",
     "text": [
      "The students on average scored a mark of:  66.089 in math\n",
      "The students on average scored a mark of:  69.169 in reading\n",
      "The students on average scored a mark of:  68.054 in writing\n",
      "The students scored the worst in MATH\n",
      "The students scored the best in READING\n"
     ]
    }
   ],
   "source": [
    "# 8. Which subject did the students do best in? The worst in? --Emma \n",
    "\n",
    "df = pd.DataFrame(data)\n",
    "\n",
    "df['math score'] = df['math score'].astype(int)\n",
    "avg_math = df['math score'].mean()\n",
    "\n",
    "df['reading score'] = df['reading score'].astype(int)\n",
    "avg_reading = df['reading score'].mean()\n",
    "\n",
    "df['writing score'] = df['writing score'].astype(int)\n",
    "avg_writing = df['writing score'].mean()\n",
    "\n",
    "\n",
    "all_avg = [ avg_math, avg_reading, avg_writing ]\n",
    "\n",
    "print('The students on average scored a mark of: ', avg_math, 'in math')\n",
    "print('The students on average scored a mark of: ', avg_reading, 'in reading')\n",
    "print('The students on average scored a mark of: ', avg_writing, 'in writing')\n",
    "\n",
    "\n",
    "#all_avg[0] = math\n",
    "#all_avg[1] = reading\n",
    "#all_avg[2] = writing\n",
    "\n",
    "if avg_math == max(all_avg):\n",
    "    print('The students scored the best in MATH')\n",
    "if avg_math == min(all_avg):\n",
    "    print('The students scored the worst in MATH')\n",
    "\n",
    "if avg_reading == max(all_avg):\n",
    "    print('The students scored the best in READING')\n",
    "if avg_reading == min(all_avg):\n",
    "    print('The students scored the worst in READING')\n",
    "    \n",
    "if avg_writing == max(all_avg):\n",
    "    print('The students scored the best in WRITING')\n",
    "if avg_writing == min(all_avg):\n",
    "    print('The students scored the worst in WRITING')"
   ]
  },
  {
   "cell_type": "markdown",
   "id": "f47f4403",
   "metadata": {},
   "source": [
    "The students scored different but close averages in all three subjects. The students seem to excel the most in reading and struggle the most in math. "
   ]
  },
  {
   "cell_type": "code",
   "execution_count": 146,
   "id": "21c8807b",
   "metadata": {},
   "outputs": [
    {
     "name": "stdout",
     "output_type": "stream",
     "text": [
      "        math score  reading score  writing score\n",
      "gender                                          \n",
      "female   63.633205      72.608108      72.467181\n",
      "male     68.728216      65.473029      63.311203\n",
      " \n",
      "                                                     FIGURE 4\n"
     ]
    },
    {
     "data": {
      "image/png": "[encoded data removed]",
      "text/plain": [
       "<Figure size 1080x360 with 1 Axes>"
      ]
     },
     "metadata": {
      "needs_background": "light"
     },
     "output_type": "display_data"
    }
   ],
   "source": [
    "# 9. On average, which gender performs better in math? writing? reading? - Nicholas\n",
    "temp_df = pd.DataFrame()\n",
    "temp_df['math score'] = df['math score']\n",
    "temp_df['reading score'] = df['reading score']\n",
    "temp_df['writing score'] = df['writing score']\n",
    "temp_df['gender'] = df['gender']\n",
    "to_plot = temp_df.groupby('gender')[['math score', 'reading score', 'writing score']].mean()\n",
    "print(to_plot)\n",
    "to_plot.plot.barh(figsize=(15,5)).set(title=\"Average Grades by Gender\", xlabel=\"Average Grade\", ylabel=\"Gender\")\n",
    "\n",
    "print(\" \")\n",
    "print(\"                                                     FIGURE 4\")"
   ]
  },
  {
   "cell_type": "markdown",
   "id": "d3c5c636",
   "metadata": {},
   "source": [
    "On average, females tend to perform better academically however, the males score higher than them only in the math category. They are more so problem solvers and analytical thinkers. Whereas the females have a higher average in reading and writing, suggesting they might be more creative than the males and can think abstractly."
   ]
  },
  {
   "cell_type": "code",
   "execution_count": 147,
   "id": "cb5ea13b",
   "metadata": {},
   "outputs": [
    {
     "name": "stdout",
     "output_type": "stream",
     "text": [
      "        math score  reading score  writing score\n",
      "gender                                          \n",
      "female        65.0           73.0           74.0\n",
      "male          69.0           66.0           64.0\n",
      " \n",
      "                                                     FIGURE 5\n"
     ]
    },
    {
     "data": {
      "image/png": "[encoded data removed]",
      "text/plain": [
       "<Figure size 1080x360 with 1 Axes>"
      ]
     },
     "metadata": {
      "needs_background": "light"
     },
     "output_type": "display_data"
    }
   ],
   "source": [
    "# 10. Which gender has the higher median score in math? writing? reading? - Nicholas\n",
    "temp_df2 = pd.DataFrame()\n",
    "temp_df2['math score'] = df['math score']\n",
    "temp_df2['reading score'] = df['reading score']\n",
    "temp_df2['writing score'] = df['writing score']\n",
    "temp_df2['gender'] = df['gender']\n",
    "to_plot2 = temp_df2.groupby('gender')[['math score', 'reading score', 'writing score']].median()\n",
    "print(to_plot2)\n",
    "to_plot2.plot.barh(figsize=(15,5)).set(title=\"Median Grades by Gender\", xlabel=\"Median Grade\", ylabel=\"Gender\")\n",
    "\n",
    "print(\" \")\n",
    "print(\"                                                     FIGURE 5\")\n"
   ]
  },
  {
   "cell_type": "markdown",
   "id": "003429bb",
   "metadata": {},
   "source": [
    "The median scores seem to be nearly identicial to the average scores with some few discrepancies. While the male demogrpahic's scores didnt change the females now have a higher median score for writing than the median score for reading as opposed to the higher average reading score compared to the average writing score. The data is set to be balanced and symmetric about the genders, given that the mean and median are very close if not equal."
   ]
  },
  {
   "cell_type": "markdown",
   "id": "56445716",
   "metadata": {},
   "source": [
    "# Potential Usages in Data Science\n",
    "\n",
    "Based on the analysis and subsequent findings of the data, we found a multitude of potential data science applications that this dataset could be used for.\n",
    "\n",
    "The dataset could be used to predict performance in a certain subject. For example, we found that students performed worse on average in mathematics compared to reading or writing. An educational institution could use this data to allocate more resources towards helping students in mathematics, to bring the average closer to the other two subjects. The institution may also choose to investigate and correct any possible flaws with their instructional methods or program that causes students to perform worse on average in the subject, based on these findings.\n",
    "\n",
    "Additionally, this dataset includes information about several characteristics of the students, such as race, gender, parental level of education, etc as well as the performance of these students, outlined above. Analysis of this data found that students with certain characteristics performed better on average than other students in certain subjects; for example, we found that race group E performed better than other races in math, while group C had the best scores in reading and writing, and that females performed better than males in every other subject except for math. An application of these findings could involve the creation of specialized programs for certain students based on their performance in certain subjects and intrinsic characteristics, which would allow students of that group to further improve their quality of education in that subject without the constraints of standardization. \n",
    "\n",
    "Another potential data science application could involve the test preparation course. Our analysis of the dataset found that the performance of students that completed the test preparation course prior to testing was significantly better than students that did not complete the course, with increases of ~5-10 percentage points on average varying depending on subject. An institution may wish to make the test preparation course mandatory for all students, based on the positive effect the course has on students’ standardized test scores. \n"
   ]
  },
  {
   "cell_type": "markdown",
   "id": "767bcc70",
   "metadata": {},
   "source": [
    "# Conclusion: Wrapping it up"
   ]
  },
  {
   "cell_type": "markdown",
   "id": "6a38e147",
   "metadata": {},
   "source": [
    "There are many things that were observed and that we came to learn about through the complete analysis of the student performances dataset.\n",
    "\n",
    "Since our dataset itself was not relatively large(about 1000 cases), analyzing it to make plausible deductions was a little difficult, as utilizing a larger dataset would have been more accurate in terms of representing a wider range of the student population. Furthermore, this dataset only represents students from one state rather than a whole country, which makes it a rather strong indicator of the atmosphere in which the students of this particular state live in, but a weak indicator of the national educational system as a whole.\n",
    "\n",
    "As something that can be done in the future to make the data analysis of such a dataset more relevant to a wider range of students, it would be best to obtain student data from all the states across the country. This would ensure a better representation of the entire student population of the United States, thus allowing the data analysis to be more reliable and accurate.\n",
    "\n",
    "Additionally, we also learned quite a bit about the potential data science applications of this dataset. Along with what was mentioned above, in particular, the analysis of this set can be used to improve the current state of the schooling system, to look for areas of weakness, and provide required support to aid in student success.\n",
    "\n",
    "Furthermore, our expectations for the results of the analyzed data were met in some cases, but in others were completely different from the actual outcome. \n",
    "\n",
    "For example, we had expected that students with parents of a more educated background were more likely to partake in completion of the test preparation course, in comparison to students whose parents weren't as educated. To test this out, we created a distribution bar plot(Figure 2) that showcased the relationship between parental education levels and the number of students that completed the test course with parents from the said educational level. As expected, a positive correlation did exist between educational levels and test preparation participation, as a greater number of students with parents of highly educated backgrounds were seen completing the preparation course in comparison to students with parents of not very educated backgrounds with a couple of outliers, as indicated by the graphed plot.\n",
    "\n",
    "On the contrary, we had initially hypothesized that a correlation must exist between the types of lunch a student ate and whether or not they were able to complete the test preparation course. We had expected students whose parents were from highly educated backgrounds, to partake in and complete the test preparation course as they could afford it. Keeping this in mind, we had thought that students who completed the test preparation course also ate the standard lunch as they could afford it, and students who ate the free lunch, did not complete the test preparation for the opposite reason. However, after graphing the data to see the distribution describing the actual relationship between school lunches and the test preparation course(Figure 1),  we realized that there is no correlation between school lunches and a student’s capability of completing the test preparation course. \n",
    "\n",
    "Overall, analyzing this dataset allowed us to learn in great depth about the different factors that affect a student’s schooling and examination performances. While there are some limitations to this data analysis as it does not represent an accurate sample of the entire population but a very small portion of it, should the dataset be revised to include more student data from a variety of regions, the analysis performed can prove to be quite helpful in creating various data science models that can be used in improving current society and the education system to ensure success of students."
   ]
  },
  {
   "cell_type": "code",
   "execution_count": null,
   "id": "bcaf93a2",
   "metadata": {},
   "outputs": [],
   "source": []
  }
 ],
 "metadata": {
  "kernelspec": {
   "display_name": "Python 3 (ipykernel)",
   "language": "python",
   "name": "python3"
  },
  "language_info": {
   "codemirror_mode": {
    "name": "ipython",
    "version": 3
   },
   "file_extension": ".py",
   "mimetype": "text/x-python",
   "name": "python",
   "nbconvert_exporter": "python",
   "pygments_lexer": "ipython3",
   "version": "3.8.12"
  }
 },
 "nbformat": 4,
 "nbformat_minor": 5
}
